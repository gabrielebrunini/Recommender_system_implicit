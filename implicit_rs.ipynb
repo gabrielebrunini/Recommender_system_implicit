{
 "cells": [
  {
   "cell_type": "markdown",
   "metadata": {},
   "source": [
    "# Introduction"
   ]
  },
  {
   "cell_type": "markdown",
   "metadata": {
    "ExecuteTime": {
     "end_time": "2019-10-25T12:33:00.444288Z",
     "start_time": "2019-10-25T12:33:00.441301Z"
    }
   },
   "source": [
    "## Import packages"
   ]
  },
  {
   "cell_type": "code",
   "execution_count": 58,
   "metadata": {
    "ExecuteTime": {
     "end_time": "2019-10-25T12:35:25.513743Z",
     "start_time": "2019-10-25T12:35:25.510751Z"
    }
   },
   "outputs": [],
   "source": [
    "import numpy as np\n",
    "import math\n",
    "import pandas as pd"
   ]
  },
  {
   "cell_type": "markdown",
   "metadata": {
    "ExecuteTime": {
     "end_time": "2019-10-25T12:35:47.851673Z",
     "start_time": "2019-10-25T12:35:47.849668Z"
    }
   },
   "source": [
    "## Google Bigquery Datasets \n",
    "Note: If you don't want to get the datasets from Google Bigquery, you can find them in the repository without the need of querying anything, just load them on the notebook"
   ]
  },
  {
   "cell_type": "markdown",
   "metadata": {},
   "source": [
    "Paste in the _credentials_ variable your [service account](https://cloud.google.com/iam/docs/creating-managing-service-account-keys) key. You can also find your _project_id_ on your Google Cloud Platform (if you want to know more about it, follow this [link](https://cloud.google.com/storage/docs/projects))"
   ]
  },
  {
   "cell_type": "code",
   "execution_count": 9,
   "metadata": {
    "ExecuteTime": {
     "end_time": "2019-10-25T12:08:28.559909Z",
     "start_time": "2019-10-25T12:08:28.553926Z"
    }
   },
   "outputs": [],
   "source": [
    "from google.cloud import bigquery\n",
    "from google.oauth2 import service_account\n",
    "\n",
    "\n",
    "credentials = service_account.Credentials.from_service_account_file(\n",
    "    r'PATH\\TO\\SERVICE_ACCOUNT_KEY.json')\n",
    "project_id = 'YOUR-PROJECT-ID'\n",
    "client = bigquery.Client(credentials= credentials,project=project_id)"
   ]
  },
  {
   "cell_type": "code",
   "execution_count": 10,
   "metadata": {
    "ExecuteTime": {
     "end_time": "2019-10-25T12:08:31.167770Z",
     "start_time": "2019-10-25T12:08:31.160789Z"
    }
   },
   "outputs": [],
   "source": [
    "client = bigquery.Client()"
   ]
  },
  {
   "cell_type": "markdown",
   "metadata": {},
   "source": [
    "We start by querying the google analytics database to obtain a value for each user-item interaction. The value depends on what action a user has taken with respect to a particular item.This value is then aggregated to obtain the total \"interest\" each user _u_ has for item _i_.\n",
    "\n",
    "The criterion for assigning an arbitrary value to each user-item interaction in the following:\n",
    "- If the user has clicked on the item from the product list (action_type = 1), the arbitrary value assigned to it is 0.5, ... <br>\n",
    "\n",
    "and so on as you can see in the query above. Note that the values assigned are just arbitrary and not the product of deterministic calculations. <br> \n",
    "These are the action_type descriptions taken from [Google Bigquery Export Schema](https://support.google.com/analytics/answer/3437719?hl=en):\n",
    "\n",
    "- 2: product detail was viewed by the user,\n",
    "- 3: product was added to cart,\n",
    "- 4: product has been removed from cart (negative value assigned to it),\n",
    "- 5: product has been checked out,\n",
    "- 6: the item purchase is complete,\n",
    "- 7: a refund was requested for the item (_very_ negative value assigned to it).\n",
    "<br>\n",
    "Finally, action_type \"0\" indicates that the action taken by the user with respect to the item is unknown. Since I was not sure on how to treat an unknown action, I decided to exclude it from the value calculation."
   ]
  },
  {
   "cell_type": "code",
   "execution_count": 11,
   "metadata": {
    "ExecuteTime": {
     "end_time": "2019-10-25T12:08:40.443181Z",
     "start_time": "2019-10-25T12:08:36.241298Z"
    }
   },
   "outputs": [],
   "source": [
    "query = \"\"\"\n",
    "        with event as\n",
    "        (SELECT hp.productsku productsku, fullvisitorid,v2ProductName product_name,\n",
    "        CASE\n",
    "        WHEN hits.eCommerceAction.action_type = '1' THEN 0.5\n",
    "        WHEN hits.eCommerceAction.action_type = '2' THEN 1\n",
    "        WHEN hits.eCommerceAction.action_type = '3' THEN 2.5\n",
    "        WHEN hits.eCommerceAction.action_type = '4' THEN -2.5\n",
    "        WHEN hits.eCommerceAction.action_type = '5' THEN 3.5\n",
    "        WHEN hits.eCommerceAction.action_type = '6' THEN 6\n",
    "        WHEN hits.eCommerceAction.action_type = '7' THEN -8\n",
    "        END AS eventStrength_exp\n",
    "        FROM `bigquery-public-data.google_analytics_sample.ga_sessions_20170801`, unnest(hits) hits, unnest(hits.product) as hp\n",
    "        WHERE hits.eCommerceAction.action_type != '0'\n",
    "        )\n",
    "        SELECT distinct productsku,fullvisitorid, sum(eventStrength_exp) as tot_interest, product_name\n",
    "        FROM event\n",
    "        GROUP BY 1,2,4\n",
    "        \"\"\"\n",
    "df = client.query(query).result().to_dataframe()"
   ]
  },
  {
   "cell_type": "markdown",
   "metadata": {},
   "source": [
    "We give a look at our dataset:"
   ]
  },
  {
   "cell_type": "code",
   "execution_count": 12,
   "metadata": {
    "ExecuteTime": {
     "end_time": "2019-10-25T12:08:40.498928Z",
     "start_time": "2019-10-25T12:08:40.482960Z"
    },
    "scrolled": true
   },
   "outputs": [
    {
     "data": {
      "text/html": [
       "<div>\n",
       "<style scoped>\n",
       "    .dataframe tbody tr th:only-of-type {\n",
       "        vertical-align: middle;\n",
       "    }\n",
       "\n",
       "    .dataframe tbody tr th {\n",
       "        vertical-align: top;\n",
       "    }\n",
       "\n",
       "    .dataframe thead th {\n",
       "        text-align: right;\n",
       "    }\n",
       "</style>\n",
       "<table border=\"1\" class=\"dataframe\">\n",
       "  <thead>\n",
       "    <tr style=\"text-align: right;\">\n",
       "      <th></th>\n",
       "      <th>productsku</th>\n",
       "      <th>fullvisitorid</th>\n",
       "      <th>tot_interest</th>\n",
       "      <th>product_name</th>\n",
       "    </tr>\n",
       "  </thead>\n",
       "  <tbody>\n",
       "    <tr>\n",
       "      <th>0</th>\n",
       "      <td>GGOEGAAX0330</td>\n",
       "      <td>3963931733144286855</td>\n",
       "      <td>1.5</td>\n",
       "      <td>YouTube Men's Long &amp; Lean Tee Charcoal</td>\n",
       "    </tr>\n",
       "    <tr>\n",
       "      <th>1</th>\n",
       "      <td>GGOEGETB023799</td>\n",
       "      <td>0750846065342433129</td>\n",
       "      <td>1.5</td>\n",
       "      <td>Google Power Bank</td>\n",
       "    </tr>\n",
       "    <tr>\n",
       "      <th>2</th>\n",
       "      <td>GGOEADWQ015699</td>\n",
       "      <td>138058039294367332</td>\n",
       "      <td>2.0</td>\n",
       "      <td>Android Rise 14 oz Mug</td>\n",
       "    </tr>\n",
       "    <tr>\n",
       "      <th>3</th>\n",
       "      <td>GGOEGBRB013899</td>\n",
       "      <td>0551028300396393478</td>\n",
       "      <td>1.5</td>\n",
       "      <td>Google Laptop Backpack</td>\n",
       "    </tr>\n",
       "    <tr>\n",
       "      <th>4</th>\n",
       "      <td>GGOEYDHJ056099</td>\n",
       "      <td>2865117450599304911</td>\n",
       "      <td>2.5</td>\n",
       "      <td>22 oz YouTube Bottle Infuser</td>\n",
       "    </tr>\n",
       "  </tbody>\n",
       "</table>\n",
       "</div>"
      ],
      "text/plain": [
       "       productsku        fullvisitorid  tot_interest  \\\n",
       "0    GGOEGAAX0330  3963931733144286855           1.5   \n",
       "1  GGOEGETB023799  0750846065342433129           1.5   \n",
       "2  GGOEADWQ015699   138058039294367332           2.0   \n",
       "3  GGOEGBRB013899  0551028300396393478           1.5   \n",
       "4  GGOEYDHJ056099  2865117450599304911           2.5   \n",
       "\n",
       "                             product_name  \n",
       "0  YouTube Men's Long & Lean Tee Charcoal  \n",
       "1                       Google Power Bank  \n",
       "2                  Android Rise 14 oz Mug  \n",
       "3                  Google Laptop Backpack  \n",
       "4            22 oz YouTube Bottle Infuser  "
      ]
     },
     "execution_count": 12,
     "metadata": {},
     "output_type": "execute_result"
    }
   ],
   "source": [
    "df.head()"
   ]
  },
  {
   "cell_type": "markdown",
   "metadata": {},
   "source": [
    "We also create another dataset that associates each _productsku_ with the product's corresponding name:"
   ]
  },
  {
   "cell_type": "code",
   "execution_count": 94,
   "metadata": {
    "ExecuteTime": {
     "end_time": "2019-10-25T13:20:57.527007Z",
     "start_time": "2019-10-25T13:20:54.958853Z"
    }
   },
   "outputs": [],
   "source": [
    "query = \"\"\"\n",
    "        SELECT distinct productsku, v2ProductName product_name\n",
    "        FROM `bigquery-public-data.google_analytics_sample.ga_sessions_20170801`, unnest(hits) hits, unnest(hits.product) as hp\n",
    "        WHERE hits.eCommerceAction.action_type != '0';\n",
    "        \"\"\"\n",
    "item_names = client.query(query).result().to_dataframe()"
   ]
  },
  {
   "cell_type": "code",
   "execution_count": 14,
   "metadata": {
    "ExecuteTime": {
     "end_time": "2019-10-25T12:08:49.433210Z",
     "start_time": "2019-10-25T12:08:49.425250Z"
    }
   },
   "outputs": [
    {
     "data": {
      "text/html": [
       "<div>\n",
       "<style scoped>\n",
       "    .dataframe tbody tr th:only-of-type {\n",
       "        vertical-align: middle;\n",
       "    }\n",
       "\n",
       "    .dataframe tbody tr th {\n",
       "        vertical-align: top;\n",
       "    }\n",
       "\n",
       "    .dataframe thead th {\n",
       "        text-align: right;\n",
       "    }\n",
       "</style>\n",
       "<table border=\"1\" class=\"dataframe\">\n",
       "  <thead>\n",
       "    <tr style=\"text-align: right;\">\n",
       "      <th></th>\n",
       "      <th>productsku</th>\n",
       "      <th>product_name</th>\n",
       "    </tr>\n",
       "  </thead>\n",
       "  <tbody>\n",
       "    <tr>\n",
       "      <th>0</th>\n",
       "      <td>GGOEGAAX0330</td>\n",
       "      <td>YouTube Men's Long &amp; Lean Tee Charcoal</td>\n",
       "    </tr>\n",
       "    <tr>\n",
       "      <th>1</th>\n",
       "      <td>GGOEGETB023799</td>\n",
       "      <td>Google Power Bank</td>\n",
       "    </tr>\n",
       "    <tr>\n",
       "      <th>2</th>\n",
       "      <td>GGOEADWQ015699</td>\n",
       "      <td>Android Rise 14 oz Mug</td>\n",
       "    </tr>\n",
       "    <tr>\n",
       "      <th>3</th>\n",
       "      <td>GGOEGBRB013899</td>\n",
       "      <td>Google Laptop Backpack</td>\n",
       "    </tr>\n",
       "    <tr>\n",
       "      <th>4</th>\n",
       "      <td>GGOEYDHJ056099</td>\n",
       "      <td>22 oz YouTube Bottle Infuser</td>\n",
       "    </tr>\n",
       "  </tbody>\n",
       "</table>\n",
       "</div>"
      ],
      "text/plain": [
       "       productsku                            product_name\n",
       "0    GGOEGAAX0330  YouTube Men's Long & Lean Tee Charcoal\n",
       "1  GGOEGETB023799                       Google Power Bank\n",
       "2  GGOEADWQ015699                  Android Rise 14 oz Mug\n",
       "3  GGOEGBRB013899                  Google Laptop Backpack\n",
       "4  GGOEYDHJ056099            22 oz YouTube Bottle Infuser"
      ]
     },
     "execution_count": 14,
     "metadata": {},
     "output_type": "execute_result"
    }
   ],
   "source": [
    "item_names.head()"
   ]
  },
  {
   "cell_type": "code",
   "execution_count": 15,
   "metadata": {
    "ExecuteTime": {
     "end_time": "2019-10-25T12:08:59.975689Z",
     "start_time": "2019-10-25T12:08:59.963723Z"
    }
   },
   "outputs": [],
   "source": [
    "# map each repo and user to a unique numeric value\n",
    "df['fullvisitorid'] = df['fullvisitorid'].astype(\"category\")\n",
    "df['productsku'] = df['productsku'].astype(\"category\")"
   ]
  },
  {
   "cell_type": "markdown",
   "metadata": {},
   "source": [
    "The above cell is needed to create lists of unique customers, products and to store the interactions of each user to each item"
   ]
  },
  {
   "cell_type": "code",
   "execution_count": 40,
   "metadata": {
    "ExecuteTime": {
     "end_time": "2019-10-25T12:24:17.919371Z",
     "start_time": "2019-10-25T12:24:17.913359Z"
    }
   },
   "outputs": [],
   "source": [
    "customers = list(np.sort(df.fullvisitorid.unique()))\n",
    "products = list(df.productsku.unique())\n",
    "interaction = list(df.tot_interest)"
   ]
  },
  {
   "cell_type": "code",
   "execution_count": 91,
   "metadata": {
    "ExecuteTime": {
     "end_time": "2019-10-25T12:48:34.029837Z",
     "start_time": "2019-10-25T12:48:34.023827Z"
    }
   },
   "outputs": [],
   "source": [
    "products = dict(enumerate(df['productsku'].cat.categories))\n",
    "productskus = {r: i for i, r in products.items()}"
   ]
  },
  {
   "cell_type": "markdown",
   "metadata": {},
   "source": [
    "## Data analysis using the interactions function"
   ]
  },
  {
   "cell_type": "code",
   "execution_count": 90,
   "metadata": {
    "ExecuteTime": {
     "end_time": "2019-10-25T12:48:29.843136Z",
     "start_time": "2019-10-25T12:48:29.839118Z"
    }
   },
   "outputs": [],
   "source": [
    "customers_df = pd.DataFrame(customers)"
   ]
  },
  {
   "cell_type": "markdown",
   "metadata": {},
   "source": [
    "For our recommendation example, we need to take a random customer from the dataset and check with which items he/she has interacted with. This is done so that we are able to tell, more or less, if the model is accurate enough in predictions.\n",
    "Let's define a function __interactions__ that would allow us to return the products with which the user interacted with and the corresponding interest for that product:"
   ]
  },
  {
   "cell_type": "code",
   "execution_count": 92,
   "metadata": {
    "ExecuteTime": {
     "end_time": "2019-10-25T12:49:04.130645Z",
     "start_time": "2019-10-25T12:49:04.127625Z"
    }
   },
   "outputs": [],
   "source": [
    "def interactions(customer_id):\n",
    "    return df[['product_name','tot_interest']][df['fullvisitorid'] == customers_df.loc[customer_id][0]]"
   ]
  },
  {
   "cell_type": "markdown",
   "metadata": {
    "ExecuteTime": {
     "end_time": "2019-10-25T12:25:32.952862Z",
     "start_time": "2019-10-25T12:25:32.948865Z"
    }
   },
   "source": [
    "Now, let's take a random customer, e.g. 50, and use the function defined above:"
   ]
  },
  {
   "cell_type": "code",
   "execution_count": 79,
   "metadata": {
    "ExecuteTime": {
     "end_time": "2019-10-25T12:40:07.315643Z",
     "start_time": "2019-10-25T12:40:07.305673Z"
    }
   },
   "outputs": [
    {
     "data": {
      "text/html": [
       "<div>\n",
       "<style scoped>\n",
       "    .dataframe tbody tr th:only-of-type {\n",
       "        vertical-align: middle;\n",
       "    }\n",
       "\n",
       "    .dataframe tbody tr th {\n",
       "        vertical-align: top;\n",
       "    }\n",
       "\n",
       "    .dataframe thead th {\n",
       "        text-align: right;\n",
       "    }\n",
       "</style>\n",
       "<table border=\"1\" class=\"dataframe\">\n",
       "  <thead>\n",
       "    <tr style=\"text-align: right;\">\n",
       "      <th></th>\n",
       "      <th>product_name</th>\n",
       "      <th>tot_interest</th>\n",
       "    </tr>\n",
       "  </thead>\n",
       "  <tbody>\n",
       "    <tr>\n",
       "      <th>524</th>\n",
       "      <td>Google Men's  Zip Hoodie</td>\n",
       "      <td>3.5</td>\n",
       "    </tr>\n",
       "    <tr>\n",
       "      <th>525</th>\n",
       "      <td>Google Men's Watershed Full Zip Hoodie Grey</td>\n",
       "      <td>6.0</td>\n",
       "    </tr>\n",
       "    <tr>\n",
       "      <th>526</th>\n",
       "      <td>YouTube Men's Fleece Hoodie Black</td>\n",
       "      <td>4.0</td>\n",
       "    </tr>\n",
       "  </tbody>\n",
       "</table>\n",
       "</div>"
      ],
      "text/plain": [
       "                                    product_name  tot_interest\n",
       "524                     Google Men's  Zip Hoodie           3.5\n",
       "525  Google Men's Watershed Full Zip Hoodie Grey           6.0\n",
       "526            YouTube Men's Fleece Hoodie Black           4.0"
      ]
     },
     "execution_count": 79,
     "metadata": {},
     "output_type": "execute_result"
    }
   ],
   "source": [
    "interactions(50)"
   ]
  },
  {
   "cell_type": "markdown",
   "metadata": {},
   "source": [
    "From the above result, it looks like the person is especially interested in Hoodies!"
   ]
  },
  {
   "cell_type": "markdown",
   "metadata": {},
   "source": [
    "Create a sparse matrix of all the users/items, where all the factors other than 1 are filled with zeros. The model is then trained on this sparse matrix"
   ]
  },
  {
   "cell_type": "code",
   "execution_count": 17,
   "metadata": {
    "ExecuteTime": {
     "end_time": "2019-10-25T12:11:11.748008Z",
     "start_time": "2019-10-25T12:11:11.706954Z"
    }
   },
   "outputs": [],
   "source": [
    "from scipy.sparse import csr_matrix\n",
    "\n",
    "# create a sparse matrix of all the users/items\n",
    "# pivot ratings into item features\n",
    "df_items_users  = df.pivot(\n",
    "    index='productsku',\n",
    "    columns='fullvisitorid',\n",
    "    values='tot_interest'\n",
    ").fillna(0)\n",
    "df_items_users  = csr_matrix(df_items_users.values)"
   ]
  },
  {
   "cell_type": "code",
   "execution_count": 19,
   "metadata": {
    "ExecuteTime": {
     "end_time": "2019-10-25T12:11:19.286594Z",
     "start_time": "2019-10-25T12:11:19.281608Z"
    }
   },
   "outputs": [
    {
     "data": {
      "text/plain": [
       "<319x427 sparse matrix of type '<class 'numpy.float64'>'\n",
       "\twith 1145 stored elements in Compressed Sparse Row format>"
      ]
     },
     "execution_count": 19,
     "metadata": {},
     "output_type": "execute_result"
    }
   ],
   "source": [
    "df_items_users"
   ]
  },
  {
   "cell_type": "markdown",
   "metadata": {},
   "source": [
    "As we can see, the matrix has been stored in a sparse row format for memory optimization purposes"
   ]
  },
  {
   "cell_type": "markdown",
   "metadata": {},
   "source": [
    "# Model creation\n",
    "Firstly, let's define a couple of functions that we are going to need later to define and train the model using our sparse matrix"
   ]
  },
  {
   "cell_type": "code",
   "execution_count": 82,
   "metadata": {
    "ExecuteTime": {
     "end_time": "2019-10-25T12:42:27.694316Z",
     "start_time": "2019-10-25T12:42:27.689324Z"
    }
   },
   "outputs": [],
   "source": [
    "from implicit.als import AlternatingLeastSquares\n",
    "from implicit.bpr import BayesianPersonalizedRanking\n",
    "\n",
    "def model_creation(model_type):\n",
    "    if model_type == 'ALS': \n",
    "        model = AlternatingLeastSquares(factors=100,\n",
    "                                    regularization=1e-3,\n",
    "                                    dtype=np.float64)\n",
    "        return model\n",
    "    \n",
    "    elif model_type == 'BPR':\n",
    "        model = BayesianPersonalizedRanking(factors=50,\n",
    "                                    regularization=1e-4,\n",
    "                                    dtype=np.float64)\n",
    "        return model\n",
    "\n",
    "def model_fitting(model, confidence, sparse_matrix):\n",
    "    model.fit(confidence * sparse_matrix)"
   ]
  },
  {
   "cell_type": "markdown",
   "metadata": {},
   "source": [
    "## Bayesian Personalized Ranking \n",
    "##### (If you want to have a more extensive explanation, you can find it on [this](https://arxiv.org/pdf/1205.2618.pdf) paper)\n",
    "The BPR method is, as defined by who designed it, an optimization criterion that evaluates the \"recommending items\" problem under a Bayesian point of view. The method has the advantage of optimizing the model parameters specifically for increasing ranking accuracy, and in order to do so it basically compares pairs of items (i.e. the user specific ranking order of two items) instead of taking each item separately and regressing it over a single number. <br>\n",
    "More formally, let's first define the set containing the pairs of items as: <br>\n",
    "\\begin{equation*}\n",
    "D_s := \\{(u,i,j) | i \\in I_u^+ \\land j \\in I \\setminus I_u^+ \\}\n",
    "\\end{equation*}\n",
    "where _u_ is a specific user,( _i_, _j_ ) are the pairs of items described above, $I$ is the set of all items and $I_u^+$ is the set of items that user u has interacted with.\n",
    "<br> The model consists in an optimization criterion derived from analyzing the problem using the likelihood function $p(i >_u j|\\theta)$.\n",
    "By maximizing the posterior probability  $ p(\\theta | >_u) \\propto p(>_u |\\theta) \\cdot p(\\theta) $ , we are able to obtain the optimization criterion for personalized ranking BPR-OPT, which after introducting the ranking properties of _totality, antisymmetry_ and _transitivity_, we can define as: <br>\n",
    "\\begin{equation*}\n",
    "BPR-OPT :=   \\sum_{(u,i,j)\\in D_s} \\ln \\sigma(\\hat{x}_{uij}) - \\lambda_\\theta \\| \\theta \\|^2   \n",
    "\\end{equation*}\n",
    "$\\hat{x}_{uij}$ is the predicted score of the pair of items (i,j) for user u, $\\theta$ represents the parameter vector of an arbitrary model class (since we know that this method can be applied to a number of model classes), and $\\lambda_\\theta$ are the model regularization parameters."
   ]
  },
  {
   "cell_type": "code",
   "execution_count": 36,
   "metadata": {
    "ExecuteTime": {
     "end_time": "2019-10-25T12:18:04.223675Z",
     "start_time": "2019-10-25T12:18:04.042152Z"
    }
   },
   "outputs": [
    {
     "data": {
      "application/vnd.jupyter.widget-view+json": {
       "model_id": "034156d94da248b096b51b3e756e57ac",
       "version_major": 2,
       "version_minor": 0
      },
      "text/plain": [
       "HBox(children=(IntProgress(value=0), HTML(value='')))"
      ]
     },
     "metadata": {},
     "output_type": "display_data"
    },
    {
     "name": "stdout",
     "output_type": "stream",
     "text": [
      "\n"
     ]
    }
   ],
   "source": [
    "# model creation\n",
    "modelBPR = model_creation('BPR')\n",
    "\n",
    "# model fitting\n",
    "confidence = 40\n",
    "sparse_matrix = df_items_users\n",
    "model_fitting(modelBPR, confidence, sparse_matrix)"
   ]
  },
  {
   "cell_type": "markdown",
   "metadata": {},
   "source": [
    "## Alternating Least Squares \n",
    "##### (If you want to have a more extensive explanation of ALS model and of collaborative filterning models in general, you can find it on [this](http://yifanhu.net/PUB/cf.pdf) paper)\n",
    "Another approach for implicit feedback datasets is the ALS approach, which is similar to matrix factorization techniques (popular with explicit feedback information), but adapted for implicit information.\n",
    "Let's first define __$p_{ui}$__ to be the binarized preference of user u to item i. In other words, if user u has consumed item i, then $p_{ui}$ is going to take value 1. Viceversa, if the user has not consumed item i, then the variable's value is going to be zero.\n",
    "We also need to introduce another variable that accounts for the uncertainty deriving from implicit datasts: the __confidence__ level, $c_{ui}$. The variable is motivated by the fact that we cannot be sure whether a certain user has interacted with an item because of preference, similarly if a user has not interacted with a certain item we cannot assume that the user is not going to be interested on it in the future. To account for that, the paper mentioned above defines the confidence level as: <br>\n",
    "$ c_{ui} = 1 + \\alpha r_{ui}$,<br> \n",
    "where the variable $r_{ui}$ indicates the arbitrary interaction value of user u with respect to item i. The confidence rate is regulated by $\\alpha$.,<br> \n",
    "A possible value of $\\alpha$ that works well with the dataset is 40, but it necessitates a case-by-case analysis to find the optimal value to assign.\n",
    "An assumption of the model is that preferences can be expressed using user-factors and item-factors vectors, and by taking their inner product we could express user preference towards item i as: $p_{ui} = x_u^Ty_i$, where x_u^T is just the transposed user-factors vector, while y_i indicates the item-factor vector.\n",
    "Factors are then computed by minimizing the following cost function: \n",
    "\\begin{equation*}\n",
    "\\phi = \\min_{x_*,y_*} \\sum_{u,i} c_{ui}(p_{ui} - x_u^Ty_i)^2 + \\lambda (\\sum_{u} \\| x_i \\|^2 + \\sum_{i} \\| y_i \\|^2) ,\n",
    "\\end{equation*}\n",
    "where the term $\\lambda (\\sum_{u} \\| x_i \\|^2 + \\sum_{i} \\| y_i \\|^2)$ is used in order to regularize the model (that means, to discourage the parameters the vectors from taking too large values). In our case, I found that a regularization parameter of 1e-4 works well. <br>\n",
    "The problem now is that in order to minimize this function, usual methods such as Stochastic Gradient Descent cannot be used. By observing that when either the user-factors or the item-factors are fixed, the cost function becomes quadratic and its global minimum can be easily computed. This leads\n",
    "to the alternating-least-squares optimization process implemented by the homonymous function that I used above."
   ]
  },
  {
   "cell_type": "code",
   "execution_count": 93,
   "metadata": {
    "ExecuteTime": {
     "end_time": "2019-10-25T12:50:17.413575Z",
     "start_time": "2019-10-25T12:50:17.358720Z"
    }
   },
   "outputs": [
    {
     "data": {
      "application/vnd.jupyter.widget-view+json": {
       "model_id": "c9696ba875c84ddfbb3229d9ffad57f1",
       "version_major": 2,
       "version_minor": 0
      },
      "text/plain": [
       "HBox(children=(IntProgress(value=0, max=15), HTML(value='')))"
      ]
     },
     "metadata": {},
     "output_type": "display_data"
    },
    {
     "name": "stdout",
     "output_type": "stream",
     "text": [
      "\n"
     ]
    }
   ],
   "source": [
    "modelALS = model_creation('ALS')\n",
    "\n",
    "confidence = 10\n",
    "sparse_matrix = df_items_users\n",
    "model_fitting(modelALS, confidence, sparse_matrix)"
   ]
  },
  {
   "cell_type": "markdown",
   "metadata": {},
   "source": [
    "# Recommendations"
   ]
  },
  {
   "cell_type": "markdown",
   "metadata": {},
   "source": [
    "In order to be able to use the __recommend__ function, we firstly need to create another sparse matrix taking the same dataset as before, but now having users as rows and items as column. This matrix is just the transposed of the above defined items-users matrix"
   ]
  },
  {
   "cell_type": "code",
   "execution_count": 84,
   "metadata": {
    "ExecuteTime": {
     "end_time": "2019-10-25T12:42:49.205601Z",
     "start_time": "2019-10-25T12:42:49.193632Z"
    }
   },
   "outputs": [],
   "source": [
    "# create an items-users matrix for recommendations \n",
    "from scipy.sparse import csr_matrix\n",
    "# pivot ratings into item features\n",
    "df_item_features  = df.pivot(\n",
    "    index='fullvisitorid',\n",
    "    columns='productsku',\n",
    "    values='tot_interest'\n",
    ").fillna(0)\n",
    "df_users_items  = csr_matrix(df_item_features.values)"
   ]
  },
  {
   "cell_type": "code",
   "execution_count": 85,
   "metadata": {
    "ExecuteTime": {
     "end_time": "2019-10-25T12:42:49.749664Z",
     "start_time": "2019-10-25T12:42:49.744677Z"
    }
   },
   "outputs": [
    {
     "data": {
      "text/plain": [
       "<427x319 sparse matrix of type '<class 'numpy.float64'>'\n",
       "\twith 1145 stored elements in Compressed Sparse Row format>"
      ]
     },
     "execution_count": 85,
     "metadata": {},
     "output_type": "execute_result"
    }
   ],
   "source": [
    "df_users_items"
   ]
  },
  {
   "cell_type": "markdown",
   "metadata": {},
   "source": [
    "## Example"
   ]
  },
  {
   "cell_type": "markdown",
   "metadata": {},
   "source": [
    "In the recommendation example below, we use the ALS model to recommend a list of 10 items to our example user 120:"
   ]
  },
  {
   "cell_type": "code",
   "execution_count": 88,
   "metadata": {
    "ExecuteTime": {
     "end_time": "2019-10-25T12:43:11.446109Z",
     "start_time": "2019-10-25T12:43:11.442148Z"
    }
   },
   "outputs": [],
   "source": [
    "recs = modelALS.recommend(userid = 50, user_items = df_users_items, N = 10)"
   ]
  },
  {
   "cell_type": "code",
   "execution_count": 89,
   "metadata": {
    "ExecuteTime": {
     "end_time": "2019-10-25T12:43:11.921085Z",
     "start_time": "2019-10-25T12:43:11.906151Z"
    }
   },
   "outputs": [
    {
     "data": {
      "text/plain": [
       "[(\"Google Men's Watershed Full Zip Hoodie Grey\", 0.3775164226056508),\n",
       " (\"Google Men's Airflow 1/4 Zip Pullover Black\", 0.2179932849706377),\n",
       " (\"Google Women's Short Sleeve Hero Tee Grey\", 0.17134788062758352),\n",
       " (\"Google Men's Performance Full Zip Jacket Black\", 0.14189075271228782),\n",
       " (\"Google Women's Scoop Neck Tee Black\", 0.13460256755832284),\n",
       " (\"Google Men's Quilted Insulated Vest Black\", 0.12718054364784773),\n",
       " ('Waze Dress Socks', 0.11386148716233549),\n",
       " (\"Google Men's  Zip Hoodie\", 0.11225598742409833),\n",
       " (\"Google Men's  Zip Hoodie\", 0.11143913038752763),\n",
       " ('Recycled Paper Journal Set', 0.0974964641327746)]"
      ]
     },
     "execution_count": 89,
     "metadata": {},
     "output_type": "execute_result"
    }
   ],
   "source": [
    "[(item_names['product_name'][item_names['productsku'] == products[r]].tolist()[0], s) for r, s in recs]"
   ]
  },
  {
   "cell_type": "markdown",
   "metadata": {},
   "source": [
    "As we would expect, we got recommendations that are somewhat similar to what our user was interested in: a pullover and a hoodie are ahead of the list. You can now try to change parameter values and see if the accuracy of the model increases."
   ]
  }
 ],
 "metadata": {
  "kernelspec": {
   "display_name": "Python 3",
   "language": "python",
   "name": "python3"
  },
  "language_info": {
   "codemirror_mode": {
    "name": "ipython",
    "version": 3
   },
   "file_extension": ".py",
   "mimetype": "text/x-python",
   "name": "python",
   "nbconvert_exporter": "python",
   "pygments_lexer": "ipython3",
   "version": "3.7.3"
  },
  "toc": {
   "base_numbering": 1,
   "nav_menu": {},
   "number_sections": true,
   "sideBar": true,
   "skip_h1_title": false,
   "title_cell": "Table of Contents",
   "title_sidebar": "Contents",
   "toc_cell": false,
   "toc_position": {
    "height": "calc(100% - 180px)",
    "left": "10px",
    "top": "150px",
    "width": "342px"
   },
   "toc_section_display": true,
   "toc_window_display": true
  },
  "varInspector": {
   "cols": {
    "lenName": 16,
    "lenType": 16,
    "lenVar": 40
   },
   "kernels_config": {
    "python": {
     "delete_cmd_postfix": "",
     "delete_cmd_prefix": "del ",
     "library": "var_list.py",
     "varRefreshCmd": "print(var_dic_list())"
    },
    "r": {
     "delete_cmd_postfix": ") ",
     "delete_cmd_prefix": "rm(",
     "library": "var_list.r",
     "varRefreshCmd": "cat(var_dic_list()) "
    }
   },
   "types_to_exclude": [
    "module",
    "function",
    "builtin_function_or_method",
    "instance",
    "_Feature"
   ],
   "window_display": false
  }
 },
 "nbformat": 4,
 "nbformat_minor": 4
}
